{
 "cells": [
  {
   "cell_type": "code",
   "execution_count": 14,
   "metadata": {},
   "outputs": [],
   "source": [
    "## import libraries to view csv\n",
    "import os\n",
    "import csv"
   ]
  },
  {
   "cell_type": "code",
   "execution_count": 17,
   "metadata": {},
   "outputs": [],
   "source": [
    "## Set variables for months, total months, current rev, previous rev, total rev, rev change and total rev change.\n",
    "months=[]\n",
    "months_count=0\n",
    "total_rev=0\n",
    "current_rev=0\n",
    "previous_rev=0\n",
    "rev_change=0\n",
    "rev_changes=[]"
   ]
  },
  {
   "cell_type": "code",
   "execution_count": 45,
   "metadata": {},
   "outputs": [],
   "source": [
    "## set path to csv file on directory\n",
    "csvpath = os.path.join(\"budget_data.csv\")\n",
    "path_output=os.path.join(\"budget_data_results.txt\")"
   ]
  },
  {
   "cell_type": "code",
   "execution_count": 46,
   "metadata": {},
   "outputs": [],
   "source": [
    "## open csv file using path, and use csv.reader to read the csv file.\n",
    "with open(csvpath, 'r') as csvfile:\n",
    "    csvreader=csv.reader(csvfile, delimiter=\",\")\n",
    "    \n",
    "## read header first    \n",
    "    next(csvreader)\n",
    "    \n",
    "## iterate through each row after the header\n",
    "### count the months by adding +1 to count\n",
    "    for row in csvreader:\n",
    "        months_count = months_count + 1\n",
    "        months.append(row[0])\n",
    "        current_rev = int(row[1])\n",
    "        total_rev = total_rev + current_rev\n",
    "        \n",
    "        if months_count > 1:\n",
    "            rev_change = current_rev - previous_rev\n",
    "            rev_changes.append(rev_change)\n",
    "        previous_rev = current_rev"
   ]
  },
  {
   "cell_type": "code",
   "execution_count": 47,
   "metadata": {},
   "outputs": [],
   "source": [
    "sum_pl = sum(rev_changes)\n",
    "avg_pl_chg= sum_pl / (months_count -1)\n",
    "max_change= max(rev_changes)\n",
    "min_change= min(rev_changes)\n",
    "max_month_index=rev_changes.index(max_change)\n",
    "min_month_index=rev_changes.index(min_change)\n",
    "max_month= months[max_month_index]\n",
    "min_month=months[min_month_index]"
   ]
  },
  {
   "cell_type": "code",
   "execution_count": 48,
   "metadata": {},
   "outputs": [
    {
     "name": "stdout",
     "output_type": "stream",
     "text": [
      "Financial Analysis\n",
      "__________________________\n",
      "                          \n",
      "Total Months: 344\n",
      "Total: $153530312\n",
      "Average Change: $-573.7172011661808\n",
      "Greatest Increase in Profits: Jan-2012 $1926159\n",
      "Greatest Decrease in Profits: Aug-2013 $-2196167\n"
     ]
    }
   ],
   "source": [
    "print(\"Financial Analysis\")\n",
    "print(\"__________________________\")\n",
    "print(\"                          \")\n",
    "print(f\"Total Months: {months_count}\")\n",
    "print(f\"Total: ${total_rev}\")\n",
    "print(f\"Average Change: ${avg_pl_chg}\")\n",
    "print(f\"Greatest Increase in Profits: {max_month} ${max_change}\")\n",
    "print(f\"Greatest Decrease in Profits: {min_month} ${min_change}\")"
   ]
  },
  {
   "cell_type": "code",
   "execution_count": 49,
   "metadata": {},
   "outputs": [],
   "source": [
    "# print to terminal and save / export to new file\n",
    "output=(\n",
    "    f\"Financial Analysis \\n\"\n",
    "    f\"__________________________\\n\"\n",
    "    f\"                          \\n\"\n",
    "    f\"Total Months: {months_count}\\n\"\n",
    "    f\"Total: ${total_rev}\\n\"\n",
    "    f\"Average Change: ${avg_pl_chg}\\n\"\n",
    "    f\"Greatest Increase in Profits: {max_month} ${max_change}\\n\"\n",
    "    f\"Greatest Decrease in Profits: {min_month} ${min_change}\\n\")\n",
    "    \n",
    "    "
   ]
  },
  {
   "cell_type": "code",
   "execution_count": 50,
   "metadata": {},
   "outputs": [
    {
     "name": "stdout",
     "output_type": "stream",
     "text": [
      "Financial Analysis \n",
      "__________________________\n",
      "                          \n",
      "Total Months: 344\n",
      "Total: $153530312\n",
      "Average Change: $-573.7172011661808\n",
      "Greatest Increase in Profits: Jan-2012 $1926159\n",
      "Greatest Decrease in Profits: Aug-2013 $-2196167\n",
      "\n"
     ]
    }
   ],
   "source": [
    "print(output)"
   ]
  },
  {
   "cell_type": "code",
   "execution_count": 56,
   "metadata": {},
   "outputs": [],
   "source": [
    "text_file=open(\"budget_results.txt\", \"w\")\n",
    "text_file.write(\"Financial Analysis\\n\")\n",
    "text_file.write(\"____________________\\n\")\n",
    "text_file.write(\"                     \\n\")\n",
    "text_file.write(\"Total months: \" + str(months_count) + \"\\n\")\n",
    "text_file.write(\"Total: \"  +  str(total_rev)  +  \"\\n\")\n",
    "text_file.write(\"Average Change: \"  +  str(avg_pl_chg) + \"\\n\")\n",
    "text_file.write(\"Greatest Increase in Profits: \"  + str(max_change)  +  \"\\n\")\n",
    "text_file.write(\"Greatest Decrease in Profits: \"  + str(min_change)  + \"\\n\")\n",
    "text_file.close()"
   ]
  },
  {
   "cell_type": "code",
   "execution_count": null,
   "metadata": {},
   "outputs": [],
   "source": []
  }
 ],
 "metadata": {
  "kernelspec": {
   "display_name": "Python 3",
   "language": "python",
   "name": "python3"
  },
  "language_info": {
   "codemirror_mode": {
    "name": "ipython",
    "version": 3
   },
   "file_extension": ".py",
   "mimetype": "text/x-python",
   "name": "python",
   "nbconvert_exporter": "python",
   "pygments_lexer": "ipython3",
   "version": "3.8.5"
  }
 },
 "nbformat": 4,
 "nbformat_minor": 4
}
